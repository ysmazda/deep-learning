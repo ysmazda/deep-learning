{
 "cells": [
  {
   "cell_type": "markdown",
   "metadata": {
    "collapsed": true,
    "deletable": true,
    "editable": true
   },
   "source": [
    "# Image Classification\n",
    "In this project, you'll classify images from the [CIFAR-10 dataset](https://www.cs.toronto.edu/~kriz/cifar.html).  The dataset consists of airplanes, dogs, cats, and other objects. You'll preprocess the images, then train a convolutional neural network on all the samples. The images need to be normalized and the labels need to be one-hot encoded.  You'll get to apply what you learned and build a convolutional, max pooling, dropout, and fully connected layers.  At the end, you'll get to see your neural network's predictions on the sample images.\n",
    "## Get the Data\n",
    "Run the following cell to download the [CIFAR-10 dataset for python](https://www.cs.toronto.edu/~kriz/cifar-10-python.tar.gz)."
   ]
  },
  {
   "cell_type": "code",
   "execution_count": 1,
   "metadata": {
    "collapsed": false,
    "deletable": true,
    "editable": true
   },
   "outputs": [
    {
     "name": "stderr",
     "output_type": "stream",
     "text": [
      "CIFAR-10 Dataset: 171MB [01:00, 2.83MB/s]                               \n"
     ]
    },
    {
     "name": "stdout",
     "output_type": "stream",
     "text": [
      "All files found!\n"
     ]
    }
   ],
   "source": [
    "\"\"\"\n",
    "DON'T MODIFY ANYTHING IN THIS CELL THAT IS BELOW THIS LINE\n",
    "\"\"\"\n",
    "from urllib.request import urlretrieve\n",
    "from os.path import isfile, isdir\n",
    "from tqdm import tqdm\n",
    "import problem_unittests as tests\n",
    "import tarfile\n",
    "\n",
    "cifar10_dataset_folder_path = 'cifar-10-batches-py'\n",
    "\n",
    "class DLProgress(tqdm):\n",
    "    last_block = 0\n",
    "\n",
    "    def hook(self, block_num=1, block_size=1, total_size=None):\n",
    "        self.total = total_size\n",
    "        self.update((block_num - self.last_block) * block_size)\n",
    "        self.last_block = block_num\n",
    "\n",
    "if not isfile('cifar-10-python.tar.gz'):\n",
    "    with DLProgress(unit='B', unit_scale=True, miniters=1, desc='CIFAR-10 Dataset') as pbar:\n",
    "        urlretrieve(\n",
    "            'https://www.cs.toronto.edu/~kriz/cifar-10-python.tar.gz',\n",
    "            'cifar-10-python.tar.gz',\n",
    "            pbar.hook)\n",
    "\n",
    "if not isdir(cifar10_dataset_folder_path):\n",
    "    with tarfile.open('cifar-10-python.tar.gz') as tar:\n",
    "        tar.extractall()\n",
    "        tar.close()\n",
    "\n",
    "\n",
    "tests.test_folder_path(cifar10_dataset_folder_path)"
   ]
  },
  {
   "cell_type": "markdown",
   "metadata": {
    "deletable": true,
    "editable": true
   },
   "source": [
    "## Explore the Data\n",
    "The dataset is broken into batches to prevent your machine from running out of memory.  The CIFAR-10 dataset consists of 5 batches, named `data_batch_1`, `data_batch_2`, etc.. Each batch contains the labels and images that are one of the following:\n",
    "* airplane\n",
    "* automobile\n",
    "* bird\n",
    "* cat\n",
    "* deer\n",
    "* dog\n",
    "* frog\n",
    "* horse\n",
    "* ship\n",
    "* truck\n",
    "\n",
    "Understanding a dataset is part of making predictions on the data.  Play around with the code cell below by changing the `batch_id` and `sample_id`. The `batch_id` is the id for a batch (1-5). The `sample_id` is the id for a image and label pair in the batch.\n",
    "\n",
    "Ask yourself \"What are all possible labels?\", \"What is the range of values for the image data?\", \"Are the labels in order or random?\".  Answers to questions like these will help you preprocess the data and end up with better predictions."
   ]
  },
  {
   "cell_type": "code",
   "execution_count": 3,
   "metadata": {
    "collapsed": false,
    "deletable": true,
    "editable": true
   },
   "outputs": [
    {
     "name": "stdout",
     "output_type": "stream",
     "text": [
      "\n",
      "Stats of batch 2:\n",
      "Samples: 10000\n",
      "Label Counts: {0: 984, 1: 1007, 2: 1010, 3: 995, 4: 1010, 5: 988, 6: 1008, 7: 1026, 8: 987, 9: 985}\n",
      "First 20 Labels: [1, 6, 6, 8, 8, 3, 4, 6, 0, 6, 0, 3, 6, 6, 5, 4, 8, 3, 2, 6]\n",
      "\n",
      "Example of Image 9:\n",
      "Image - Min Value: 40 Max Value: 229\n",
      "Image - Shape: (32, 32, 3)\n",
      "Label - Label Id: 6 Name: frog\n"
     ]
    },
    {
     "data": {
      "image/png": "[encoded data removed]",
      "text/plain": [
       "<matplotlib.figure.Figure at 0x7f8e7aed6438>"
      ]
     },
     "metadata": {
      "image/png": {
       "height": 250,
       "width": 253
      }
     },
     "output_type": "display_data"
    }
   ],
   "source": [
    "%matplotlib inline\n",
    "%config InlineBackend.figure_format = 'retina'\n",
    "\n",
    "import helper\n",
    "import numpy as np\n",
    "\n",
    "# Explore the dataset\n",
    "batch_id = 2\n",
    "sample_id = 9\n",
    "helper.display_stats(cifar10_dataset_folder_path, batch_id, sample_id)"
   ]
  },
  {
   "cell_type": "markdown",
   "metadata": {
    "deletable": true,
    "editable": true
   },
   "source": [
    "## Implement Preprocess Functions\n",
    "### Normalize\n",
    "In the cell below, implement the `normalize` function to take in image data, `x`, and return it as a normalized Numpy array. The values should be in the range of 0 to 1, inclusive.  The return object should be the same shape as `x`."
   ]
  },
  {
   "cell_type": "code",
   "execution_count": 4,
   "metadata": {
    "collapsed": false,
    "deletable": true,
    "editable": true
   },
   "outputs": [
    {
     "name": "stdout",
     "output_type": "stream",
     "text": [
      "Tests Passed\n"
     ]
    }
   ],
   "source": [
    "def normalize(x):\n",
    "    \"\"\"\n",
    "    Normalize a list of sample image data in the range of 0 to 1\n",
    "    : x: List of image data.  The image shape is (32, 32, 3)\n",
    "    : return: Numpy array of normalize data\n",
    "    \"\"\"\n",
    "    return x / 255.0\n",
    "\n",
    "\n",
    "\"\"\"\n",
    "DON'T MODIFY ANYTHING IN THIS CELL THAT IS BELOW THIS LINE\n",
    "\"\"\"\n",
    "tests.test_normalize(normalize)"
   ]
  },
  {
   "cell_type": "markdown",
   "metadata": {
    "deletable": true,
    "editable": true
   },
   "source": [
    "### One-hot encode\n",
    "Just like the previous code cell, you'll be implementing a function for preprocessing.  This time, you'll implement the `one_hot_encode` function. The input, `x`, are a list of labels.  Implement the function to return the list of labels as One-Hot encoded Numpy array.  The possible values for labels are 0 to 9. The one-hot encoding function should return the same encoding for each value between each call to `one_hot_encode`.  Make sure to save the map of encodings outside the function.\n",
    "\n",
    "Hint: Don't reinvent the wheel."
   ]
  },
  {
   "cell_type": "code",
   "execution_count": 5,
   "metadata": {
    "collapsed": false,
    "deletable": true,
    "editable": true
   },
   "outputs": [
    {
     "name": "stdout",
     "output_type": "stream",
     "text": [
      "Tests Passed\n"
     ]
    }
   ],
   "source": [
    "def one_hot_encode(x):\n",
    "    \"\"\"\n",
    "    One hot encode a list of sample labels. Return a one-hot encoded vector for each label.\n",
    "    : x: List of sample Labels\n",
    "    : return: Numpy array of one-hot encoded labels\n",
    "    \"\"\"\n",
    "    n = len(x)\n",
    "    onehot = np.zeros((n, 10))\n",
    "    onehot[np.arange(n), x] = 1\n",
    "    return onehot\n",
    "\n",
    "\n",
    "\"\"\"\n",
    "DON'T MODIFY ANYTHING IN THIS CELL THAT IS BELOW THIS LINE\n",
    "\"\"\"\n",
    "tests.test_one_hot_encode(one_hot_encode)"
   ]
  },
  {
   "cell_type": "markdown",
   "metadata": {
    "deletable": true,
    "editable": true
   },
   "source": [
    "### Randomize Data\n",
    "As you saw from exploring the data above, the order of the samples are randomized.  It doesn't hurt to randomize it again, but you don't need to for this dataset."
   ]
  },
  {
   "cell_type": "markdown",
   "metadata": {
    "deletable": true,
    "editable": true
   },
   "source": [
    "## Preprocess all the data and save it\n",
    "Running the code cell below will preprocess all the CIFAR-10 data and save it to file. The code below also uses 10% of the training data for validation."
   ]
  },
  {
   "cell_type": "code",
   "execution_count": 6,
   "metadata": {
    "collapsed": false,
    "deletable": true,
    "editable": true
   },
   "outputs": [],
   "source": [
    "\"\"\"\n",
    "DON'T MODIFY ANYTHING IN THIS CELL\n",
    "\"\"\"\n",
    "# Preprocess Training, Validation, and Testing Data\n",
    "helper.preprocess_and_save_data(cifar10_dataset_folder_path, normalize, one_hot_encode)"
   ]
  },
  {
   "cell_type": "markdown",
   "metadata": {
    "deletable": true,
    "editable": true
   },
   "source": [
    "# Check Point\n",
    "This is your first checkpoint.  If you ever decide to come back to this notebook or have to restart the notebook, you can start from here.  The preprocessed data has been saved to disk."
   ]
  },
  {
   "cell_type": "code",
   "execution_count": 1,
   "metadata": {
    "collapsed": true,
    "deletable": true,
    "editable": true
   },
   "outputs": [],
   "source": [
    "\"\"\"\n",
    "DON'T MODIFY ANYTHING IN THIS CELL\n",
    "\"\"\"\n",
    "import pickle\n",
    "import problem_unittests as tests\n",
    "import helper\n",
    "\n",
    "# Load the Preprocessed Validation data\n",
    "valid_features, valid_labels = pickle.load(open('preprocess_validation.p', mode='rb'))"
   ]
  },
  {
   "cell_type": "markdown",
   "metadata": {
    "deletable": true,
    "editable": true
   },
   "source": [
    "## Build the network\n",
    "For the neural network, you'll build each layer into a function.  Most of the code you've seen has been outside of functions. To test your code more thoroughly, we require that you put each layer in a function.  This allows us to give you better feedback and test for simple mistakes using our unittests before you submit your project.\n",
    "\n",
    ">**Note:** If you're finding it hard to dedicate enough time for this course each week, we've provided a small shortcut to this part of the project. In the next couple of problems, you'll have the option to use classes from the [TensorFlow Layers](https://www.tensorflow.org/api_docs/python/tf/layers) or [TensorFlow Layers (contrib)](https://www.tensorflow.org/api_guides/python/contrib.layers) packages to build each layer, except the layers you build in the \"Convolutional and Max Pooling Layer\" section.  TF Layers is similar to Keras's and TFLearn's abstraction to layers, so it's easy to pickup.\n",
    "\n",
    ">However, if you would like to get the most out of this course, try to solve all the problems _without_ using anything from the TF Layers packages. You **can** still use classes from other packages that happen to have the same name as ones you find in TF Layers! For example, instead of using the TF Layers version of the `conv2d` class, [tf.layers.conv2d](https://www.tensorflow.org/api_docs/python/tf/layers/conv2d), you would want to use the TF Neural Network version of `conv2d`, [tf.nn.conv2d](https://www.tensorflow.org/api_docs/python/tf/nn/conv2d). \n",
    "\n",
    "Let's begin!\n",
    "\n",
    "### Input\n",
    "The neural network needs to read the image data, one-hot encoded labels, and dropout keep probability. Implement the following functions\n",
    "* Implement `neural_net_image_input`\n",
    " * Return a [TF Placeholder](https://www.tensorflow.org/api_docs/python/tf/placeholder)\n",
    " * Set the shape using `image_shape` with batch size set to `None`.\n",
    " * Name the TensorFlow placeholder \"x\" using the TensorFlow `name` parameter in the [TF Placeholder](https://www.tensorflow.org/api_docs/python/tf/placeholder).\n",
    "* Implement `neural_net_label_input`\n",
    " * Return a [TF Placeholder](https://www.tensorflow.org/api_docs/python/tf/placeholder)\n",
    " * Set the shape using `n_classes` with batch size set to `None`.\n",
    " * Name the TensorFlow placeholder \"y\" using the TensorFlow `name` parameter in the [TF Placeholder](https://www.tensorflow.org/api_docs/python/tf/placeholder).\n",
    "* Implement `neural_net_keep_prob_input`\n",
    " * Return a [TF Placeholder](https://www.tensorflow.org/api_docs/python/tf/placeholder) for dropout keep probability.\n",
    " * Name the TensorFlow placeholder \"keep_prob\" using the TensorFlow `name` parameter in the [TF Placeholder](https://www.tensorflow.org/api_docs/python/tf/placeholder).\n",
    "\n",
    "These names will be used at the end of the project to load your saved model.\n",
    "\n",
    "Note: `None` for shapes in TensorFlow allow for a dynamic size."
   ]
  },
  {
   "cell_type": "code",
   "execution_count": 2,
   "metadata": {
    "collapsed": false,
    "deletable": true,
    "editable": true
   },
   "outputs": [
    {
     "name": "stdout",
     "output_type": "stream",
     "text": [
      "Image Input Tests Passed.\n",
      "Label Input Tests Passed.\n",
      "Keep Prob Tests Passed.\n"
     ]
    }
   ],
   "source": [
    "import tensorflow as tf\n",
    "\n",
    "def neural_net_image_input(image_shape):\n",
    "    \"\"\"\n",
    "    Return a Tensor for a bach of image input\n",
    "    : image_shape: Shape of the images\n",
    "    : return: Tensor for image input.\n",
    "    \"\"\"\n",
    "    # TODO: Implement Function\n",
    "    return tf.placeholder(tf.float32, shape=[None, image_shape[0], image_shape[1], image_shape[2]], name='x')\n",
    "\n",
    "\n",
    "def neural_net_label_input(n_classes):\n",
    "    \"\"\"\n",
    "    Return a Tensor for a batch of label input\n",
    "    : n_classes: Number of classes\n",
    "    : return: Tensor for label input.\n",
    "    \"\"\"\n",
    "    # TODO: Implement Function\n",
    "    return tf.placeholder(tf.float32, shape=[None, n_classes], name='y')\n",
    "\n",
    "\n",
    "def neural_net_keep_prob_input():\n",
    "    \"\"\"\n",
    "    Return a Tensor for keep probability\n",
    "    : return: Tensor for keep probability.\n",
    "    \"\"\"\n",
    "    # TODO: Implement Function\n",
    "    return tf.placeholder(tf.float32, name='keep_prob')\n",
    "\n",
    "\n",
    "\"\"\"\n",
    "DON'T MODIFY ANYTHING IN THIS CELL THAT IS BELOW THIS LINE\n",
    "\"\"\"\n",
    "tf.reset_default_graph()\n",
    "tests.test_nn_image_inputs(neural_net_image_input)\n",
    "tests.test_nn_label_inputs(neural_net_label_input)\n",
    "tests.test_nn_keep_prob_inputs(neural_net_keep_prob_input)"
   ]
  },
  {
   "cell_type": "markdown",
   "metadata": {
    "deletable": true,
    "editable": true
   },
   "source": [
    "### Convolution and Max Pooling Layer\n",
    "Convolution layers have a lot of success with images. For this code cell, you should implement the function `conv2d_maxpool` to apply convolution then max pooling:\n",
    "* Create the weight and bias using `conv_ksize`, `conv_num_outputs` and the shape of `x_tensor`.\n",
    "* Apply a convolution to `x_tensor` using weight and `conv_strides`.\n",
    " * We recommend you use same padding, but you're welcome to use any padding.\n",
    "* Add bias\n",
    "* Add a nonlinear activation to the convolution.\n",
    "* Apply Max Pooling using `pool_ksize` and `pool_strides`.\n",
    " * We recommend you use same padding, but you're welcome to use any padding.\n",
    "\n",
    "**Note:** You **can't** use [TensorFlow Layers](https://www.tensorflow.org/api_docs/python/tf/layers) or [TensorFlow Layers (contrib)](https://www.tensorflow.org/api_guides/python/contrib.layers) for **this** layer, but you can still use TensorFlow's [Neural Network](https://www.tensorflow.org/api_docs/python/tf/nn) package. You may still use the shortcut option for all the **other** layers."
   ]
  },
  {
   "cell_type": "code",
   "execution_count": 3,
   "metadata": {
    "collapsed": false,
    "deletable": true,
    "editable": true
   },
   "outputs": [
    {
     "name": "stdout",
     "output_type": "stream",
     "text": [
      "Tests Passed\n"
     ]
    }
   ],
   "source": [
    "def conv2d_maxpool(x_tensor, conv_num_outputs, conv_ksize, conv_strides, pool_ksize, pool_strides):\n",
    "    \"\"\"\n",
    "    Apply convolution then max pooling to x_tensor\n",
    "    :param x_tensor: TensorFlow Tensor\n",
    "    :param conv_num_outputs: Number of outputs for the convolutional layer\n",
    "    :param conv_ksize: kernal size 2-D Tuple for the convolutional layer\n",
    "    :param conv_strides: Stride 2-D Tuple for convolution\n",
    "    :param pool_ksize: kernal size 2-D Tuple for pool\n",
    "    :param pool_strides: Stride 2-D Tuple for pool\n",
    "    : return: A tensor that represents convolution and max pooling of x_tensor\n",
    "    \"\"\"\n",
    "    weights = tf.Variable(tf.truncated_normal([conv_ksize[0], conv_ksize[1], int(x_tensor.shape[3]), conv_num_outputs], stddev=0.1))\n",
    "    bias = tf.Variable(tf.truncated_normal([conv_num_outputs], stddev=0.1))\n",
    "    strides = [1, conv_strides[0], conv_strides[1], 1]\n",
    "    conv_layer = tf.nn.conv2d(x_tensor, weights, strides, padding='SAME')\n",
    "    conv_layer = tf.nn.bias_add(conv_layer, bias)\n",
    "    conv_layer = tf.contrib.layers.batch_norm(conv_layer, center=True, scale=True)\n",
    "    conv_layer = tf.nn.relu(conv_layer)\n",
    "    conv_layer = tf.nn.max_pool(conv_layer, ksize=[1, pool_ksize[0], pool_ksize[1], 1], strides=[1, pool_strides[0], pool_strides[1], 1], padding='SAME')\n",
    "    return conv_layer\n",
    "\n",
    "\n",
    "\"\"\"\n",
    "DON'T MODIFY ANYTHING IN THIS CELL THAT IS BELOW THIS LINE\n",
    "\"\"\"\n",
    "tests.test_con_pool(conv2d_maxpool)"
   ]
  },
  {
   "cell_type": "markdown",
   "metadata": {
    "deletable": true,
    "editable": true
   },
   "source": [
    "### Flatten Layer\n",
    "Implement the `flatten` function to change the dimension of `x_tensor` from a 4-D tensor to a 2-D tensor.  The output should be the shape (*Batch Size*, *Flattened Image Size*). Shortcut option: you can use classes from the [TensorFlow Layers](https://www.tensorflow.org/api_docs/python/tf/layers) or [TensorFlow Layers (contrib)](https://www.tensorflow.org/api_guides/python/contrib.layers) packages for this layer. For more of a challenge, only use other TensorFlow packages."
   ]
  },
  {
   "cell_type": "code",
   "execution_count": 4,
   "metadata": {
    "collapsed": false,
    "deletable": true,
    "editable": true
   },
   "outputs": [
    {
     "name": "stdout",
     "output_type": "stream",
     "text": [
      "Tests Passed\n"
     ]
    }
   ],
   "source": [
    "def flatten(x_tensor):\n",
    "    \"\"\"\n",
    "    Flatten x_tensor to (Batch Size, Flattened Image Size)\n",
    "    : x_tensor: A tensor of size (Batch Size, ...), where ... are the image dimensions.\n",
    "    : return: A tensor of size (Batch Size, Flattened Image Size).\n",
    "    \"\"\"\n",
    "    # TODO: Implement Function\n",
    "    return tf.reshape(x_tensor, [-1, int(x_tensor.shape[1] * x_tensor.shape[2] * x_tensor.shape[3])])\n",
    "\n",
    "\n",
    "\"\"\"\n",
    "DON'T MODIFY ANYTHING IN THIS CELL THAT IS BELOW THIS LINE\n",
    "\"\"\"\n",
    "tests.test_flatten(flatten)"
   ]
  },
  {
   "cell_type": "markdown",
   "metadata": {
    "deletable": true,
    "editable": true
   },
   "source": [
    "### Fully-Connected Layer\n",
    "Implement the `fully_conn` function to apply a fully connected layer to `x_tensor` with the shape (*Batch Size*, *num_outputs*). Shortcut option: you can use classes from the [TensorFlow Layers](https://www.tensorflow.org/api_docs/python/tf/layers) or [TensorFlow Layers (contrib)](https://www.tensorflow.org/api_guides/python/contrib.layers) packages for this layer. For more of a challenge, only use other TensorFlow packages."
   ]
  },
  {
   "cell_type": "code",
   "execution_count": 5,
   "metadata": {
    "collapsed": false,
    "deletable": true,
    "editable": true
   },
   "outputs": [
    {
     "name": "stdout",
     "output_type": "stream",
     "text": [
      "Tests Passed\n"
     ]
    }
   ],
   "source": [
    "def fully_conn(x_tensor, num_outputs):\n",
    "    \"\"\"\n",
    "    Apply a fully connected layer to x_tensor using weight and bias\n",
    "    : x_tensor: A 2-D tensor where the first dimension is batch size.\n",
    "    : num_outputs: The number of output that the new tensor should be.\n",
    "    : return: A 2-D tensor where the second dimension is num_outputs.\n",
    "    \"\"\"\n",
    "    # TODO: Implement Function\n",
    "    weights = tf.Variable(tf.truncated_normal([int(x_tensor.shape[1]), num_outputs], stddev=0.1))\n",
    "    bias = tf.Variable(tf.truncated_normal([num_outputs], stddev=0.1))\n",
    "    layer = tf.nn.bias_add(tf.matmul(x_tensor, weights), bias)\n",
    "    return layer\n",
    "\n",
    "\n",
    "\"\"\"\n",
    "DON'T MODIFY ANYTHING IN THIS CELL THAT IS BELOW THIS LINE\n",
    "\"\"\"\n",
    "tests.test_fully_conn(fully_conn)"
   ]
  },
  {
   "cell_type": "markdown",
   "metadata": {
    "deletable": true,
    "editable": true
   },
   "source": [
    "### Output Layer\n",
    "Implement the `output` function to apply a fully connected layer to `x_tensor` with the shape (*Batch Size*, *num_outputs*). Shortcut option: you can use classes from the [TensorFlow Layers](https://www.tensorflow.org/api_docs/python/tf/layers) or [TensorFlow Layers (contrib)](https://www.tensorflow.org/api_guides/python/contrib.layers) packages for this layer. For more of a challenge, only use other TensorFlow packages.\n",
    "\n",
    "**Note:** Activation, softmax, or cross entropy should **not** be applied to this."
   ]
  },
  {
   "cell_type": "code",
   "execution_count": 6,
   "metadata": {
    "collapsed": false,
    "deletable": true,
    "editable": true
   },
   "outputs": [
    {
     "name": "stdout",
     "output_type": "stream",
     "text": [
      "Tests Passed\n"
     ]
    }
   ],
   "source": [
    "def output(x_tensor, num_outputs):\n",
    "    \"\"\"\n",
    "    Apply a output layer to x_tensor using weight and bias\n",
    "    : x_tensor: A 2-D tensor where the first dimension is batch size.\n",
    "    : num_outputs: The number of output that the new tensor should be.\n",
    "    : return: A 2-D tensor where the second dimension is num_outputs.\n",
    "    \"\"\"\n",
    "    # TODO: Implement Function\n",
    "    weights = tf.Variable(tf.truncated_normal([int(x_tensor.shape[1]), num_outputs], stddev=0.1))\n",
    "    bias = tf.Variable(tf.truncated_normal([num_outputs], stddev=0.1))\n",
    "    return tf.add(tf.matmul(x_tensor, weights), bias)\n",
    "\n",
    "\n",
    "\"\"\"\n",
    "DON'T MODIFY ANYTHING IN THIS CELL THAT IS BELOW THIS LINE\n",
    "\"\"\"\n",
    "tests.test_output(output)"
   ]
  },
  {
   "cell_type": "markdown",
   "metadata": {
    "deletable": true,
    "editable": true
   },
   "source": [
    "### Create Convolutional Model\n",
    "Implement the function `conv_net` to create a convolutional neural network model. The function takes in a batch of images, `x`, and outputs logits.  Use the layers you created above to create this model:\n",
    "\n",
    "* Apply 1, 2, or 3 Convolution and Max Pool layers\n",
    "* Apply a Flatten Layer\n",
    "* Apply 1, 2, or 3 Fully Connected Layers\n",
    "* Apply an Output Layer\n",
    "* Return the output\n",
    "* Apply [TensorFlow's Dropout](https://www.tensorflow.org/api_docs/python/tf/nn/dropout) to one or more layers in the model using `keep_prob`. "
   ]
  },
  {
   "cell_type": "code",
   "execution_count": 7,
   "metadata": {
    "collapsed": false,
    "deletable": true,
    "editable": true
   },
   "outputs": [
    {
     "name": "stdout",
     "output_type": "stream",
     "text": [
      "Neural Network Built!\n"
     ]
    }
   ],
   "source": [
    "def conv_net(x, keep_prob):\n",
    "    \"\"\"\n",
    "    Create a convolutional neural network model\n",
    "    : x: Placeholder tensor that holds image data.\n",
    "    : keep_prob: Placeholder tensor that hold dropout keep probability.\n",
    "    : return: Tensor that represents logits\n",
    "    \"\"\"\n",
    "    # TODO: Apply 1, 2, or 3 Convolution and Max Pool layers\n",
    "    #    Play around with different number of outputs, kernel size and stride\n",
    "    # Function Definition from Above:\n",
    "    #    conv2d_maxpool(x_tensor, conv_num_outputs, conv_ksize, conv_strides, pool_ksize, pool_strides)\n",
    "    # conv_num_outputs = 64\n",
    "    # conv_ksize = [2, 2]\n",
    "    # conv_strides = [2, 2]\n",
    "    # pool_ksize = [2, 2]\n",
    "    # pool_strides = [2, 2]\n",
    "    # layer = conv2d_maxpool(x, conv_num_outputs, conv_ksize, conv_strides, pool_ksize, pool_strides)\n",
    "    # layer = tf.nn.dropout(layer, keep_prob)\n",
    "\n",
    "    # conv_num_outputs = 128\n",
    "    # conv_ksize = [2, 2]\n",
    "    # conv_strides = [2, 2]\n",
    "    # pool_ksize = [1, 1]\n",
    "    # pool_strides = [1, 1]\n",
    "    # layer = conv2d_maxpool(x, conv_num_outputs, conv_ksize, conv_strides, pool_ksize, pool_strides)\n",
    "    # layer = tf.nn.dropout(layer, keep_prob)\n",
    "\n",
    "    # conv_num_outputs = 256\n",
    "    # conv_ksize = [2, 2]\n",
    "    # conv_strides = [2, 2]\n",
    "    # pool_ksize = [1, 1]\n",
    "    # pool_strides = [1, 1]\n",
    "    # layer = conv2d_maxpool(x, conv_num_outputs, conv_ksize, conv_strides, pool_ksize, pool_strides)\n",
    "    \n",
    "    ##############################\n",
    "    conv_num_outputs = 32\n",
    "    conv_ksize = [5, 5]\n",
    "    conv_strides = [1, 1]\n",
    "    pool_ksize = [3, 3]\n",
    "    pool_strides = [2, 2]\n",
    "    layer = conv2d_maxpool(x, conv_num_outputs, conv_ksize, conv_strides, pool_ksize, pool_strides)\n",
    "\n",
    "    conv_num_outputs = 64\n",
    "    conv_ksize = [5, 5]\n",
    "    conv_strides = [1, 1]\n",
    "    pool_ksize = [3, 3]\n",
    "    pool_strides = [2, 2]\n",
    "    layer = conv2d_maxpool(x, conv_num_outputs, conv_ksize, conv_strides, pool_ksize, pool_strides)\n",
    "    layer = tf.nn.dropout(layer, keep_prob)\n",
    "    ##############################\n",
    "    \n",
    "    # TODO: Apply a Flatten Layer\n",
    "    # Function Definition from Above:\n",
    "    #   flatten(x_tensor)\n",
    "    layer = flatten(layer)\n",
    "\n",
    "    # layer = tf.nn.dropout(layer, keep_prob)\n",
    "\n",
    "    # TODO: Apply 1, 2, or 3 Fully Connected Layers\n",
    "    #    Play around with different number of outputs\n",
    "    # Function Definition from Above:\n",
    "    #   fully_conn(x_tensor, num_outputs)\n",
    "    num_fully_conn_outputs = 128\n",
    "    layer = fully_conn(layer, num_fully_conn_outputs)\n",
    "    layer = tf.nn.dropout(layer, keep_prob)\n",
    "\n",
    "    # num_fully_conn_outputs = 32\n",
    "    # layer = fully_conn(layer, num_fully_conn_outputs)\n",
    "    # layer = tf.nn.dropout(layer, keep_prob)\n",
    "    \n",
    "    # TODO: Apply an Output Layer\n",
    "    #    Set this to the number of classes\n",
    "    # Function Definition from Above:\n",
    "    #   output(x_tensor, num_outputs)\n",
    "    num_outputs = 10\n",
    "    layer = output(layer, num_outputs)\n",
    "    \n",
    "    \n",
    "    # TODO: return output\n",
    "    return layer\n",
    "\n",
    "\n",
    "\"\"\"\n",
    "DON'T MODIFY ANYTHING IN THIS CELL THAT IS BELOW THIS LINE\n",
    "\"\"\"\n",
    "\n",
    "##############################\n",
    "## Build the Neural Network ##\n",
    "##############################\n",
    "\n",
    "# Remove previous weights, bias, inputs, etc..\n",
    "tf.reset_default_graph()\n",
    "\n",
    "# Inputs\n",
    "x = neural_net_image_input((32, 32, 3))\n",
    "y = neural_net_label_input(10)\n",
    "keep_prob = neural_net_keep_prob_input()\n",
    "\n",
    "# Model\n",
    "logits = conv_net(x, keep_prob)\n",
    "\n",
    "# Name logits Tensor, so that is can be loaded from disk after training\n",
    "logits = tf.identity(logits, name='logits')\n",
    "\n",
    "# Loss and Optimizer\n",
    "cost = tf.reduce_mean(tf.nn.softmax_cross_entropy_with_logits(logits=logits, labels=y))\n",
    "optimizer = tf.train.AdamOptimizer().minimize(cost)\n",
    "\n",
    "# Accuracy\n",
    "correct_pred = tf.equal(tf.argmax(logits, 1), tf.argmax(y, 1))\n",
    "accuracy = tf.reduce_mean(tf.cast(correct_pred, tf.float32), name='accuracy')\n",
    "\n",
    "tests.test_conv_net(conv_net)"
   ]
  },
  {
   "cell_type": "markdown",
   "metadata": {
    "deletable": true,
    "editable": true
   },
   "source": [
    "## Train the Neural Network\n",
    "### Single Optimization\n",
    "Implement the function `train_neural_network` to do a single optimization.  The optimization should use `optimizer` to optimize in `session` with a `feed_dict` of the following:\n",
    "* `x` for image input\n",
    "* `y` for labels\n",
    "* `keep_prob` for keep probability for dropout\n",
    "\n",
    "This function will be called for each batch, so `tf.global_variables_initializer()` has already been called.\n",
    "\n",
    "Note: Nothing needs to be returned. This function is only optimizing the neural network."
   ]
  },
  {
   "cell_type": "code",
   "execution_count": 8,
   "metadata": {
    "collapsed": false,
    "deletable": true,
    "editable": true,
    "scrolled": false
   },
   "outputs": [
    {
     "name": "stdout",
     "output_type": "stream",
     "text": [
      "Tests Passed\n"
     ]
    }
   ],
   "source": [
    "def train_neural_network(session, optimizer, keep_probability, feature_batch, label_batch):\n",
    "    \"\"\"\n",
    "    Optimize the session on a batch of images and labels\n",
    "    : session: Current TensorFlow session\n",
    "    : optimizer: TensorFlow optimizer function\n",
    "    : keep_probability: keep probability\n",
    "    : feature_batch: Batch of Numpy image data\n",
    "    : label_batch: Batch of Numpy label data\n",
    "    \"\"\"\n",
    "    # TODO: Implement Function\n",
    "    session.run(optimizer, feed_dict={x: feature_batch, y: label_batch, keep_prob: keep_probability})\n",
    "\n",
    "\n",
    "\"\"\"\n",
    "DON'T MODIFY ANYTHING IN THIS CELL THAT IS BELOW THIS LINE\n",
    "\"\"\"\n",
    "tests.test_train_nn(train_neural_network)"
   ]
  },
  {
   "cell_type": "markdown",
   "metadata": {
    "deletable": true,
    "editable": true
   },
   "source": [
    "### Show Stats\n",
    "Implement the function `print_stats` to print loss and validation accuracy.  Use the global variables `valid_features` and `valid_labels` to calculate validation accuracy.  Use a keep probability of `1.0` to calculate the loss and validation accuracy."
   ]
  },
  {
   "cell_type": "code",
   "execution_count": 9,
   "metadata": {
    "collapsed": false,
    "deletable": true,
    "editable": true
   },
   "outputs": [],
   "source": [
    "def print_stats(session, feature_batch, label_batch, cost, accuracy):\n",
    "    \"\"\"\n",
    "    Print information about loss and validation accuracy\n",
    "    : session: Current TensorFlow session\n",
    "    : feature_batch: Batch of Numpy image data\n",
    "    : label_batch: Batch of Numpy label data\n",
    "    : cost: TensorFlow cost function\n",
    "    : accuracy: TensorFlow accuracy function\n",
    "    \"\"\"\n",
    "    # TODO: Implement Function\n",
    "    train_loss = session.run(cost, feed_dict={x: feature_batch, y: label_batch, keep_prob: 1.0})\n",
    "    validation_accuracy = session.run(accuracy, feed_dict={x: valid_features[:1000], y: valid_labels[:1000], keep_prob: 1.0})\n",
    "    print('cost: %f' % train_loss)\n",
    "    print('accuracy: %f' % validation_accuracy)\n",
    "    \n"
   ]
  },
  {
   "cell_type": "markdown",
   "metadata": {
    "deletable": true,
    "editable": true
   },
   "source": [
    "### Hyperparameters\n",
    "Tune the following parameters:\n",
    "* Set `epochs` to the number of iterations until the network stops learning or start overfitting\n",
    "* Set `batch_size` to the highest number that your machine has memory for.  Most people set them to common sizes of memory:\n",
    " * 64\n",
    " * 128\n",
    " * 256\n",
    " * ...\n",
    "* Set `keep_probability` to the probability of keeping a node using dropout"
   ]
  },
  {
   "cell_type": "code",
   "execution_count": 10,
   "metadata": {
    "collapsed": true,
    "deletable": true,
    "editable": true
   },
   "outputs": [],
   "source": [
    "# TODO: Tune Parameters\n",
    "epochs = 32\n",
    "batch_size = 128\n",
    "keep_probability = 0.5"
   ]
  },
  {
   "cell_type": "markdown",
   "metadata": {
    "deletable": true,
    "editable": true
   },
   "source": [
    "### Train on a Single CIFAR-10 Batch\n",
    "Instead of training the neural network on all the CIFAR-10 batches of data, let's use a single batch. This should save time while you iterate on the model to get a better accuracy.  Once the final validation accuracy is 50% or greater, run the model on all the data in the next section."
   ]
  },
  {
   "cell_type": "code",
   "execution_count": 11,
   "metadata": {
    "collapsed": false,
    "deletable": true,
    "editable": true,
    "scrolled": false
   },
   "outputs": [
    {
     "name": "stdout",
     "output_type": "stream",
     "text": [
      "Checking the Training on a Single Batch...\n",
      "Epoch  1, CIFAR-10 Batch 1:  cost: 9.122730\n",
      "accuracy: 0.350000\n",
      "Epoch  2, CIFAR-10 Batch 1:  cost: 5.917623\n",
      "accuracy: 0.404000\n",
      "Epoch  3, CIFAR-10 Batch 1:  cost: 3.376389\n",
      "accuracy: 0.480000\n",
      "Epoch  4, CIFAR-10 Batch 1:  cost: 2.521533\n",
      "accuracy: 0.480000\n",
      "Epoch  5, CIFAR-10 Batch 1:  cost: 1.632205\n",
      "accuracy: 0.495000\n",
      "Epoch  6, CIFAR-10 Batch 1:  cost: 1.573559\n",
      "accuracy: 0.491000\n",
      "Epoch  7, CIFAR-10 Batch 1:  cost: 1.487671\n",
      "accuracy: 0.513000\n",
      "Epoch  8, CIFAR-10 Batch 1:  cost: 1.434073\n",
      "accuracy: 0.509000\n",
      "Epoch  9, CIFAR-10 Batch 1:  cost: 1.417439\n",
      "accuracy: 0.509000\n",
      "Epoch 10, CIFAR-10 Batch 1:  cost: 1.381750\n",
      "accuracy: 0.497000\n",
      "Epoch 11, CIFAR-10 Batch 1:  cost: 1.406590\n",
      "accuracy: 0.511000\n",
      "Epoch 12, CIFAR-10 Batch 1:  cost: 1.332142\n",
      "accuracy: 0.507000\n",
      "Epoch 13, CIFAR-10 Batch 1:  cost: 1.320312\n",
      "accuracy: 0.513000\n",
      "Epoch 14, CIFAR-10 Batch 1:  cost: 1.305935\n",
      "accuracy: 0.531000\n",
      "Epoch 15, CIFAR-10 Batch 1:  cost: 1.333637\n",
      "accuracy: 0.524000\n",
      "Epoch 16, CIFAR-10 Batch 1:  cost: 1.324098\n",
      "accuracy: 0.520000\n",
      "Epoch 17, CIFAR-10 Batch 1:  cost: 1.332632\n",
      "accuracy: 0.521000\n",
      "Epoch 18, CIFAR-10 Batch 1:  cost: 1.266166\n",
      "accuracy: 0.519000\n",
      "Epoch 19, CIFAR-10 Batch 1:  cost: 1.289930\n",
      "accuracy: 0.528000\n",
      "Epoch 20, CIFAR-10 Batch 1:  cost: 1.272684\n",
      "accuracy: 0.530000\n",
      "Epoch 21, CIFAR-10 Batch 1:  cost: 1.192937\n",
      "accuracy: 0.538000\n",
      "Epoch 22, CIFAR-10 Batch 1:  cost: 1.166274\n",
      "accuracy: 0.540000\n",
      "Epoch 23, CIFAR-10 Batch 1:  cost: 1.164273\n",
      "accuracy: 0.532000\n",
      "Epoch 24, CIFAR-10 Batch 1:  cost: 1.169517\n",
      "accuracy: 0.543000\n",
      "Epoch 25, CIFAR-10 Batch 1:  cost: 1.117264\n",
      "accuracy: 0.552000\n",
      "Epoch 26, CIFAR-10 Batch 1:  cost: 1.090909\n",
      "accuracy: 0.552000\n",
      "Epoch 27, CIFAR-10 Batch 1:  cost: 1.054019\n",
      "accuracy: 0.568000\n",
      "Epoch 28, CIFAR-10 Batch 1:  cost: 1.040478\n",
      "accuracy: 0.561000\n",
      "Epoch 29, CIFAR-10 Batch 1:  cost: 1.063966\n",
      "accuracy: 0.565000\n",
      "Epoch 30, CIFAR-10 Batch 1:  cost: 1.025273\n",
      "accuracy: 0.552000\n",
      "Epoch 31, CIFAR-10 Batch 1:  cost: 0.976348\n",
      "accuracy: 0.563000\n",
      "Epoch 32, CIFAR-10 Batch 1:  cost: 0.991126\n",
      "accuracy: 0.570000\n"
     ]
    }
   ],
   "source": [
    "\"\"\"\n",
    "DON'T MODIFY ANYTHING IN THIS CELL\n",
    "\"\"\"\n",
    "print('Checking the Training on a Single Batch...')\n",
    "with tf.Session() as sess:\n",
    "    # Initializing the variables\n",
    "    sess.run(tf.global_variables_initializer())\n",
    "    \n",
    "    # Training cycle\n",
    "    for epoch in range(epochs):\n",
    "        batch_i = 1\n",
    "        for batch_features, batch_labels in helper.load_preprocess_training_batch(batch_i, batch_size):\n",
    "            train_neural_network(sess, optimizer, keep_probability, batch_features, batch_labels)\n",
    "        print('Epoch {:>2}, CIFAR-10 Batch {}:  '.format(epoch + 1, batch_i), end='')\n",
    "        print_stats(sess, batch_features, batch_labels, cost, accuracy)"
   ]
  },
  {
   "cell_type": "markdown",
   "metadata": {
    "deletable": true,
    "editable": true
   },
   "source": [
    "### Fully Train the Model\n",
    "Now that you got a good accuracy with a single CIFAR-10 batch, try it with all five batches."
   ]
  },
  {
   "cell_type": "code",
   "execution_count": 12,
   "metadata": {
    "collapsed": false,
    "deletable": true,
    "editable": true,
    "scrolled": true
   },
   "outputs": [
    {
     "name": "stdout",
     "output_type": "stream",
     "text": [
      "Training...\n",
      "Epoch  1, CIFAR-10 Batch 1:  cost: 8.266529\n",
      "accuracy: 0.375000\n",
      "Epoch  1, CIFAR-10 Batch 2:  cost: 3.987537\n",
      "accuracy: 0.437000\n",
      "Epoch  1, CIFAR-10 Batch 3:  cost: 2.284156\n",
      "accuracy: 0.479000\n",
      "Epoch  1, CIFAR-10 Batch 4:  cost: 2.196088\n",
      "accuracy: 0.498000\n",
      "Epoch  1, CIFAR-10 Batch 5:  cost: 1.723652\n",
      "accuracy: 0.512000\n",
      "Epoch  2, CIFAR-10 Batch 1:  cost: 1.877955\n",
      "accuracy: 0.506000\n",
      "Epoch  2, CIFAR-10 Batch 2:  cost: 1.462095\n",
      "accuracy: 0.503000\n",
      "Epoch  2, CIFAR-10 Batch 3:  cost: 1.235240\n",
      "accuracy: 0.497000\n",
      "Epoch  2, CIFAR-10 Batch 4:  cost: 1.426148\n",
      "accuracy: 0.510000\n",
      "Epoch  2, CIFAR-10 Batch 5:  cost: 1.521559\n",
      "accuracy: 0.498000\n",
      "Epoch  3, CIFAR-10 Batch 1:  cost: 1.625067\n",
      "accuracy: 0.530000\n",
      "Epoch  3, CIFAR-10 Batch 2:  cost: 1.397201\n",
      "accuracy: 0.496000\n",
      "Epoch  3, CIFAR-10 Batch 3:  cost: 1.154225\n",
      "accuracy: 0.506000\n",
      "Epoch  3, CIFAR-10 Batch 4:  cost: 1.372393\n",
      "accuracy: 0.526000\n",
      "Epoch  3, CIFAR-10 Batch 5:  cost: 1.437389\n",
      "accuracy: 0.524000\n",
      "Epoch  4, CIFAR-10 Batch 1:  cost: 1.538835\n",
      "accuracy: 0.524000\n",
      "Epoch  4, CIFAR-10 Batch 2:  cost: 1.296839\n",
      "accuracy: 0.517000\n",
      "Epoch  4, CIFAR-10 Batch 3:  cost: 1.129640\n",
      "accuracy: 0.522000\n",
      "Epoch  4, CIFAR-10 Batch 4:  cost: 1.228079\n",
      "accuracy: 0.536000\n",
      "Epoch  4, CIFAR-10 Batch 5:  cost: 1.451861\n",
      "accuracy: 0.539000\n",
      "Epoch  5, CIFAR-10 Batch 1:  cost: 1.497404\n",
      "accuracy: 0.518000\n",
      "Epoch  5, CIFAR-10 Batch 2:  cost: 1.269984\n",
      "accuracy: 0.522000\n",
      "Epoch  5, CIFAR-10 Batch 3:  cost: 1.023137\n",
      "accuracy: 0.542000\n",
      "Epoch  5, CIFAR-10 Batch 4:  cost: 1.243232\n",
      "accuracy: 0.550000\n",
      "Epoch  5, CIFAR-10 Batch 5:  cost: 1.339542\n",
      "accuracy: 0.556000\n",
      "Epoch  6, CIFAR-10 Batch 1:  cost: 1.407307\n",
      "accuracy: 0.553000\n",
      "Epoch  6, CIFAR-10 Batch 2:  cost: 1.157309\n",
      "accuracy: 0.543000\n",
      "Epoch  6, CIFAR-10 Batch 3:  cost: 0.955595\n",
      "accuracy: 0.555000\n",
      "Epoch  6, CIFAR-10 Batch 4:  cost: 1.148613\n",
      "accuracy: 0.554000\n",
      "Epoch  6, CIFAR-10 Batch 5:  cost: 1.318868\n",
      "accuracy: 0.576000\n",
      "Epoch  7, CIFAR-10 Batch 1:  cost: 1.413584\n",
      "accuracy: 0.563000\n",
      "Epoch  7, CIFAR-10 Batch 2:  cost: 1.124387\n",
      "accuracy: 0.557000\n",
      "Epoch  7, CIFAR-10 Batch 3:  cost: 0.918287\n",
      "accuracy: 0.576000\n",
      "Epoch  7, CIFAR-10 Batch 4:  cost: 1.061520\n",
      "accuracy: 0.575000\n",
      "Epoch  7, CIFAR-10 Batch 5:  cost: 1.204886\n",
      "accuracy: 0.594000\n",
      "Epoch  8, CIFAR-10 Batch 1:  cost: 1.307624\n",
      "accuracy: 0.595000\n",
      "Epoch  8, CIFAR-10 Batch 2:  cost: 0.993333\n",
      "accuracy: 0.583000\n",
      "Epoch  8, CIFAR-10 Batch 3:  cost: 0.867992\n",
      "accuracy: 0.585000\n",
      "Epoch  8, CIFAR-10 Batch 4:  cost: 1.030797\n",
      "accuracy: 0.597000\n",
      "Epoch  8, CIFAR-10 Batch 5:  cost: 1.180723\n",
      "accuracy: 0.600000\n",
      "Epoch  9, CIFAR-10 Batch 1:  cost: 1.260232\n",
      "accuracy: 0.608000\n",
      "Epoch  9, CIFAR-10 Batch 2:  cost: 0.953331\n",
      "accuracy: 0.606000\n",
      "Epoch  9, CIFAR-10 Batch 3:  cost: 0.792316\n",
      "accuracy: 0.599000\n",
      "Epoch  9, CIFAR-10 Batch 4:  cost: 0.952329\n",
      "accuracy: 0.617000\n",
      "Epoch  9, CIFAR-10 Batch 5:  cost: 1.050916\n",
      "accuracy: 0.609000\n",
      "Epoch 10, CIFAR-10 Batch 1:  cost: 1.103748\n",
      "accuracy: 0.632000\n",
      "Epoch 10, CIFAR-10 Batch 2:  cost: 0.912085\n",
      "accuracy: 0.619000\n",
      "Epoch 10, CIFAR-10 Batch 3:  cost: 0.715992\n",
      "accuracy: 0.628000\n",
      "Epoch 10, CIFAR-10 Batch 4:  cost: 0.950562\n",
      "accuracy: 0.648000\n",
      "Epoch 10, CIFAR-10 Batch 5:  cost: 0.972465\n",
      "accuracy: 0.633000\n",
      "Epoch 11, CIFAR-10 Batch 1:  cost: 1.103084\n",
      "accuracy: 0.626000\n",
      "Epoch 11, CIFAR-10 Batch 2:  cost: 0.827800\n",
      "accuracy: 0.622000\n",
      "Epoch 11, CIFAR-10 Batch 3:  cost: 0.650873\n",
      "accuracy: 0.645000\n",
      "Epoch 11, CIFAR-10 Batch 4:  cost: 0.893591\n",
      "accuracy: 0.650000\n",
      "Epoch 11, CIFAR-10 Batch 5:  cost: 0.987712\n",
      "accuracy: 0.640000\n",
      "Epoch 12, CIFAR-10 Batch 1:  cost: 1.040758\n",
      "accuracy: 0.637000\n",
      "Epoch 12, CIFAR-10 Batch 2:  cost: 0.830011\n",
      "accuracy: 0.647000\n",
      "Epoch 12, CIFAR-10 Batch 3:  cost: 0.631795\n",
      "accuracy: 0.649000\n",
      "Epoch 12, CIFAR-10 Batch 4:  cost: 0.887921\n",
      "accuracy: 0.652000\n",
      "Epoch 12, CIFAR-10 Batch 5:  cost: 0.950975\n",
      "accuracy: 0.653000\n",
      "Epoch 13, CIFAR-10 Batch 1:  cost: 1.031166\n",
      "accuracy: 0.645000\n",
      "Epoch 13, CIFAR-10 Batch 2:  cost: 0.805299\n",
      "accuracy: 0.643000\n",
      "Epoch 13, CIFAR-10 Batch 3:  cost: 0.593553\n",
      "accuracy: 0.639000\n",
      "Epoch 13, CIFAR-10 Batch 4:  cost: 0.779223\n",
      "accuracy: 0.644000\n",
      "Epoch 13, CIFAR-10 Batch 5:  cost: 0.897172\n",
      "accuracy: 0.655000\n",
      "Epoch 14, CIFAR-10 Batch 1:  cost: 1.000725\n",
      "accuracy: 0.658000\n",
      "Epoch 14, CIFAR-10 Batch 2:  cost: 0.741590\n",
      "accuracy: 0.657000\n",
      "Epoch 14, CIFAR-10 Batch 3:  cost: 0.614547\n",
      "accuracy: 0.651000\n",
      "Epoch 14, CIFAR-10 Batch 4:  cost: 0.801104\n",
      "accuracy: 0.658000\n",
      "Epoch 14, CIFAR-10 Batch 5:  cost: 0.834364\n",
      "accuracy: 0.651000\n",
      "Epoch 15, CIFAR-10 Batch 1:  cost: 0.950152\n",
      "accuracy: 0.662000\n",
      "Epoch 15, CIFAR-10 Batch 2:  cost: 0.771181\n",
      "accuracy: 0.651000\n",
      "Epoch 15, CIFAR-10 Batch 3:  cost: 0.549784\n",
      "accuracy: 0.669000\n",
      "Epoch 15, CIFAR-10 Batch 4:  cost: 0.776122\n",
      "accuracy: 0.670000\n",
      "Epoch 15, CIFAR-10 Batch 5:  cost: 0.824641\n",
      "accuracy: 0.648000\n",
      "Epoch 16, CIFAR-10 Batch 1:  cost: 0.900896\n",
      "accuracy: 0.665000\n",
      "Epoch 16, CIFAR-10 Batch 2:  cost: 0.692143\n",
      "accuracy: 0.667000\n",
      "Epoch 16, CIFAR-10 Batch 3:  cost: 0.521958\n",
      "accuracy: 0.662000\n",
      "Epoch 16, CIFAR-10 Batch 4:  cost: 0.763460\n",
      "accuracy: 0.676000\n",
      "Epoch 16, CIFAR-10 Batch 5:  cost: 0.754128\n",
      "accuracy: 0.666000\n",
      "Epoch 17, CIFAR-10 Batch 1:  cost: 0.891662\n",
      "accuracy: 0.675000\n",
      "Epoch 17, CIFAR-10 Batch 2:  cost: 0.677304\n",
      "accuracy: 0.676000\n",
      "Epoch 17, CIFAR-10 Batch 3:  cost: 0.529171\n",
      "accuracy: 0.678000\n",
      "Epoch 17, CIFAR-10 Batch 4:  cost: 0.760580\n",
      "accuracy: 0.682000\n",
      "Epoch 17, CIFAR-10 Batch 5:  cost: 0.715520\n",
      "accuracy: 0.660000\n",
      "Epoch 18, CIFAR-10 Batch 1:  cost: 0.841007\n",
      "accuracy: 0.671000\n",
      "Epoch 18, CIFAR-10 Batch 2:  cost: 0.653626\n",
      "accuracy: 0.681000\n",
      "Epoch 18, CIFAR-10 Batch 3:  cost: 0.471061\n",
      "accuracy: 0.657000\n",
      "Epoch 18, CIFAR-10 Batch 4:  cost: 0.721517\n",
      "accuracy: 0.678000\n",
      "Epoch 18, CIFAR-10 Batch 5:  cost: 0.655581\n",
      "accuracy: 0.651000\n",
      "Epoch 19, CIFAR-10 Batch 1:  cost: 0.818815\n",
      "accuracy: 0.674000\n",
      "Epoch 19, CIFAR-10 Batch 2:  cost: 0.643763\n",
      "accuracy: 0.686000\n",
      "Epoch 19, CIFAR-10 Batch 3:  cost: 0.439019\n",
      "accuracy: 0.674000\n",
      "Epoch 19, CIFAR-10 Batch 4:  cost: 0.629048\n",
      "accuracy: 0.679000\n",
      "Epoch 19, CIFAR-10 Batch 5:  cost: 0.649953\n",
      "accuracy: 0.670000\n",
      "Epoch 20, CIFAR-10 Batch 1:  cost: 0.809179\n",
      "accuracy: 0.666000\n",
      "Epoch 20, CIFAR-10 Batch 2:  cost: 0.568359\n",
      "accuracy: 0.682000\n",
      "Epoch 20, CIFAR-10 Batch 3:  cost: 0.436415\n",
      "accuracy: 0.682000\n",
      "Epoch 20, CIFAR-10 Batch 4:  cost: 0.625339\n",
      "accuracy: 0.693000\n",
      "Epoch 20, CIFAR-10 Batch 5:  cost: 0.629818\n",
      "accuracy: 0.677000\n",
      "Epoch 21, CIFAR-10 Batch 1:  cost: 0.720530\n",
      "accuracy: 0.691000\n",
      "Epoch 21, CIFAR-10 Batch 2:  cost: 0.573963\n",
      "accuracy: 0.687000\n",
      "Epoch 21, CIFAR-10 Batch 3:  cost: 0.412515\n",
      "accuracy: 0.689000\n",
      "Epoch 21, CIFAR-10 Batch 4:  cost: 0.593438\n",
      "accuracy: 0.686000\n",
      "Epoch 21, CIFAR-10 Batch 5:  cost: 0.585875\n",
      "accuracy: 0.667000\n",
      "Epoch 22, CIFAR-10 Batch 1:  cost: 0.676866\n",
      "accuracy: 0.678000\n",
      "Epoch 22, CIFAR-10 Batch 2:  cost: 0.558222\n",
      "accuracy: 0.694000\n",
      "Epoch 22, CIFAR-10 Batch 3:  cost: 0.441860\n",
      "accuracy: 0.681000\n",
      "Epoch 22, CIFAR-10 Batch 4:  cost: 0.580161\n",
      "accuracy: 0.682000\n",
      "Epoch 22, CIFAR-10 Batch 5:  cost: 0.606852\n",
      "accuracy: 0.665000\n",
      "Epoch 23, CIFAR-10 Batch 1:  cost: 0.712985\n",
      "accuracy: 0.681000\n",
      "Epoch 23, CIFAR-10 Batch 2:  cost: 0.511182\n",
      "accuracy: 0.678000\n",
      "Epoch 23, CIFAR-10 Batch 3:  cost: 0.405026\n",
      "accuracy: 0.692000\n",
      "Epoch 23, CIFAR-10 Batch 4:  cost: 0.563194\n",
      "accuracy: 0.683000\n",
      "Epoch 23, CIFAR-10 Batch 5:  cost: 0.586978\n",
      "accuracy: 0.662000\n",
      "Epoch 24, CIFAR-10 Batch 1:  cost: 0.719971\n",
      "accuracy: 0.684000\n",
      "Epoch 24, CIFAR-10 Batch 2:  cost: 0.495401\n",
      "accuracy: 0.679000\n",
      "Epoch 24, CIFAR-10 Batch 3:  cost: 0.383576\n",
      "accuracy: 0.691000\n",
      "Epoch 24, CIFAR-10 Batch 4:  cost: 0.538755\n",
      "accuracy: 0.684000\n",
      "Epoch 24, CIFAR-10 Batch 5:  cost: 0.577552\n",
      "accuracy: 0.662000\n",
      "Epoch 25, CIFAR-10 Batch 1:  cost: 0.655365\n",
      "accuracy: 0.685000\n",
      "Epoch 25, CIFAR-10 Batch 2:  cost: 0.510567\n",
      "accuracy: 0.682000\n",
      "Epoch 25, CIFAR-10 Batch 3:  cost: 0.387519\n",
      "accuracy: 0.683000\n",
      "Epoch 25, CIFAR-10 Batch 4:  cost: 0.535584\n",
      "accuracy: 0.685000\n",
      "Epoch 25, CIFAR-10 Batch 5:  cost: 0.575432\n",
      "accuracy: 0.673000\n",
      "Epoch 26, CIFAR-10 Batch 1:  cost: 0.666164\n",
      "accuracy: 0.674000\n",
      "Epoch 26, CIFAR-10 Batch 2:  cost: 0.447511\n",
      "accuracy: 0.690000\n",
      "Epoch 26, CIFAR-10 Batch 3:  cost: 0.367210\n",
      "accuracy: 0.684000\n",
      "Epoch 26, CIFAR-10 Batch 4:  cost: 0.479103\n",
      "accuracy: 0.690000\n",
      "Epoch 26, CIFAR-10 Batch 5:  cost: 0.511664\n",
      "accuracy: 0.664000\n",
      "Epoch 27, CIFAR-10 Batch 1:  cost: 0.589443\n",
      "accuracy: 0.684000\n",
      "Epoch 27, CIFAR-10 Batch 2:  cost: 0.423137\n",
      "accuracy: 0.681000\n",
      "Epoch 27, CIFAR-10 Batch 3:  cost: 0.335665\n",
      "accuracy: 0.686000\n",
      "Epoch 27, CIFAR-10 Batch 4:  cost: 0.485782\n",
      "accuracy: 0.688000\n",
      "Epoch 27, CIFAR-10 Batch 5:  cost: 0.489981\n",
      "accuracy: 0.678000\n",
      "Epoch 28, CIFAR-10 Batch 1:  cost: 0.583131\n",
      "accuracy: 0.677000\n",
      "Epoch 28, CIFAR-10 Batch 2:  cost: 0.413061\n",
      "accuracy: 0.690000\n",
      "Epoch 28, CIFAR-10 Batch 3:  cost: 0.372949\n",
      "accuracy: 0.677000\n",
      "Epoch 28, CIFAR-10 Batch 4:  cost: 0.456560\n",
      "accuracy: 0.682000\n",
      "Epoch 28, CIFAR-10 Batch 5:  cost: 0.536279\n",
      "accuracy: 0.666000\n",
      "Epoch 29, CIFAR-10 Batch 1:  cost: 0.601872\n",
      "accuracy: 0.683000\n",
      "Epoch 29, CIFAR-10 Batch 2:  cost: 0.406307\n",
      "accuracy: 0.700000\n",
      "Epoch 29, CIFAR-10 Batch 3:  cost: 0.342116\n",
      "accuracy: 0.682000\n",
      "Epoch 29, CIFAR-10 Batch 4:  cost: 0.429632\n",
      "accuracy: 0.703000\n",
      "Epoch 29, CIFAR-10 Batch 5:  cost: 0.487993\n",
      "accuracy: 0.682000\n",
      "Epoch 30, CIFAR-10 Batch 1:  cost: 0.584591\n",
      "accuracy: 0.688000\n",
      "Epoch 30, CIFAR-10 Batch 2:  cost: 0.406283\n",
      "accuracy: 0.674000\n",
      "Epoch 30, CIFAR-10 Batch 3:  cost: 0.331428\n",
      "accuracy: 0.704000\n",
      "Epoch 30, CIFAR-10 Batch 4:  cost: 0.432110\n",
      "accuracy: 0.706000\n",
      "Epoch 30, CIFAR-10 Batch 5:  cost: 0.515496\n",
      "accuracy: 0.673000\n",
      "Epoch 31, CIFAR-10 Batch 1:  cost: 0.560734\n",
      "accuracy: 0.688000\n",
      "Epoch 31, CIFAR-10 Batch 2:  cost: 0.378113\n",
      "accuracy: 0.678000\n",
      "Epoch 31, CIFAR-10 Batch 3:  cost: 0.332600\n",
      "accuracy: 0.688000\n",
      "Epoch 31, CIFAR-10 Batch 4:  cost: 0.431478\n",
      "accuracy: 0.694000\n",
      "Epoch 31, CIFAR-10 Batch 5:  cost: 0.447161\n",
      "accuracy: 0.675000\n",
      "Epoch 32, CIFAR-10 Batch 1:  cost: 0.517316\n",
      "accuracy: 0.690000\n",
      "Epoch 32, CIFAR-10 Batch 2:  cost: 0.389497\n",
      "accuracy: 0.692000\n",
      "Epoch 32, CIFAR-10 Batch 3:  cost: 0.338276\n",
      "accuracy: 0.698000\n",
      "Epoch 32, CIFAR-10 Batch 4:  cost: 0.413892\n",
      "accuracy: 0.691000\n",
      "Epoch 32, CIFAR-10 Batch 5:  cost: 0.416202\n",
      "accuracy: 0.685000\n"
     ]
    }
   ],
   "source": [
    "\"\"\"\n",
    "DON'T MODIFY ANYTHING IN THIS CELL\n",
    "\"\"\"\n",
    "save_model_path = './image_classification'\n",
    "\n",
    "print('Training...')\n",
    "with tf.Session() as sess:\n",
    "    # Initializing the variables\n",
    "    sess.run(tf.global_variables_initializer())\n",
    "    \n",
    "    # Training cycle\n",
    "    for epoch in range(epochs):\n",
    "        # Loop over all batches\n",
    "        n_batches = 5\n",
    "        for batch_i in range(1, n_batches + 1):\n",
    "            for batch_features, batch_labels in helper.load_preprocess_training_batch(batch_i, batch_size):\n",
    "                train_neural_network(sess, optimizer, keep_probability, batch_features, batch_labels)\n",
    "            print('Epoch {:>2}, CIFAR-10 Batch {}:  '.format(epoch + 1, batch_i), end='')\n",
    "            print_stats(sess, batch_features, batch_labels, cost, accuracy)\n",
    "            \n",
    "    # Save Model\n",
    "    saver = tf.train.Saver()\n",
    "    save_path = saver.save(sess, save_model_path)"
   ]
  },
  {
   "cell_type": "markdown",
   "metadata": {
    "deletable": true,
    "editable": true
   },
   "source": [
    "# Checkpoint\n",
    "The model has been saved to disk.\n",
    "## Test Model\n",
    "Test your model against the test dataset.  This will be your final accuracy. You should have an accuracy greater than 50%. If you don't, keep tweaking the model architecture and parameters."
   ]
  },
  {
   "cell_type": "code",
   "execution_count": 13,
   "metadata": {
    "collapsed": false,
    "deletable": true,
    "editable": true
   },
   "outputs": [
    {
     "name": "stdout",
     "output_type": "stream",
     "text": [
      "Testing Accuracy: 0.6852254746835443\n",
      "\n"
     ]
    },
    {
     "data": {
      "image/png": "[encoded data removed]",
      "text/plain": [
       "<matplotlib.figure.Figure at 0x7f423078e828>"
      ]
     },
     "metadata": {
      "image/png": {
       "height": 319,
       "width": 355
      }
     },
     "output_type": "display_data"
    }
   ],
   "source": [
    "\"\"\"\n",
    "DON'T MODIFY ANYTHING IN THIS CELL\n",
    "\"\"\"\n",
    "%matplotlib inline\n",
    "%config InlineBackend.figure_format = 'retina'\n",
    "\n",
    "import tensorflow as tf\n",
    "import pickle\n",
    "import helper\n",
    "import random\n",
    "\n",
    "# Set batch size if not already set\n",
    "try:\n",
    "    if batch_size:\n",
    "        pass\n",
    "except NameError:\n",
    "    batch_size = 64\n",
    "\n",
    "save_model_path = './image_classification'\n",
    "n_samples = 4\n",
    "top_n_predictions = 3\n",
    "\n",
    "def test_model():\n",
    "    \"\"\"\n",
    "    Test the saved model against the test dataset\n",
    "    \"\"\"\n",
    "\n",
    "    test_features, test_labels = pickle.load(open('preprocess_training.p', mode='rb'))\n",
    "    loaded_graph = tf.Graph()\n",
    "\n",
    "    with tf.Session(graph=loaded_graph) as sess:\n",
    "        # Load model\n",
    "        loader = tf.train.import_meta_graph(save_model_path + '.meta')\n",
    "        loader.restore(sess, save_model_path)\n",
    "\n",
    "        # Get Tensors from loaded model\n",
    "        loaded_x = loaded_graph.get_tensor_by_name('x:0')\n",
    "        loaded_y = loaded_graph.get_tensor_by_name('y:0')\n",
    "        loaded_keep_prob = loaded_graph.get_tensor_by_name('keep_prob:0')\n",
    "        loaded_logits = loaded_graph.get_tensor_by_name('logits:0')\n",
    "        loaded_acc = loaded_graph.get_tensor_by_name('accuracy:0')\n",
    "        \n",
    "        # Get accuracy in batches for memory limitations\n",
    "        test_batch_acc_total = 0\n",
    "        test_batch_count = 0\n",
    "        \n",
    "        for train_feature_batch, train_label_batch in helper.batch_features_labels(test_features, test_labels, batch_size):\n",
    "            test_batch_acc_total += sess.run(\n",
    "                loaded_acc,\n",
    "                feed_dict={loaded_x: train_feature_batch, loaded_y: train_label_batch, loaded_keep_prob: 1.0})\n",
    "            test_batch_count += 1\n",
    "\n",
    "        print('Testing Accuracy: {}\\n'.format(test_batch_acc_total/test_batch_count))\n",
    "\n",
    "        # Print Random Samples\n",
    "        random_test_features, random_test_labels = tuple(zip(*random.sample(list(zip(test_features, test_labels)), n_samples)))\n",
    "        random_test_predictions = sess.run(\n",
    "            tf.nn.top_k(tf.nn.softmax(loaded_logits), top_n_predictions),\n",
    "            feed_dict={loaded_x: random_test_features, loaded_y: random_test_labels, loaded_keep_prob: 1.0})\n",
    "        helper.display_image_predictions(random_test_features, random_test_labels, random_test_predictions)\n",
    "\n",
    "\n",
    "test_model()"
   ]
  },
  {
   "cell_type": "markdown",
   "metadata": {
    "deletable": true,
    "editable": true
   },
   "source": [
    "## Why 50-70% Accuracy?\n",
    "You might be wondering why you can't get an accuracy any higher. First things first, 50% isn't bad for a simple CNN.  Pure guessing would get you 10% accuracy. However, you might notice people are getting scores [well above 70%](http://rodrigob.github.io/are_we_there_yet/build/classification_datasets_results.html#43494641522d3130).  That's because we haven't taught you all there is to know about neural networks. We still need to cover a few more techniques.\n",
    "## Submitting This Project\n",
    "When submitting this project, make sure to run all the cells before saving the notebook.  Save the notebook file as \"dlnd_image_classification.ipynb\" and save it as a HTML file under \"File\" -> \"Download as\".  Include the \"helper.py\" and \"problem_unittests.py\" files in your submission."
   ]
  }
 ],
 "metadata": {
  "kernelspec": {
   "display_name": "Python 3",
   "language": "python",
   "name": "python3"
  },
  "language_info": {
   "codemirror_mode": {
    "name": "ipython",
    "version": 3
   },
   "file_extension": ".py",
   "mimetype": "text/x-python",
   "name": "python",
   "nbconvert_exporter": "python",
   "pygments_lexer": "ipython3",
   "version": "3.5.2"
  },
  "widgets": {
   "state": {},
   "version": "1.1.2"
  }
 },
 "nbformat": 4,
 "nbformat_minor": 0
}
